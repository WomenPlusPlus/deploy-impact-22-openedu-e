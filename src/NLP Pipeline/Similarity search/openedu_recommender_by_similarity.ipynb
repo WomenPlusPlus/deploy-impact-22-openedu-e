{
 "cells": [
  {
   "cell_type": "markdown",
   "metadata": {},
   "source": [
    "# Build a project/course recommendator by content similarity\n"
   ]
  },
  {
   "cell_type": "markdown",
   "metadata": {},
   "source": [
    "## Install"
   ]
  },
  {
   "cell_type": "code",
   "execution_count": 46,
   "metadata": {},
   "outputs": [
    {
     "name": "stderr",
     "output_type": "stream",
     "text": [
      "[nltk_data] Downloading package punkt to /Users/gildafernandez-\n",
      "[nltk_data]     conchajahnsen/nltk_data...\n",
      "[nltk_data]   Package punkt is already up-to-date!\n",
      "[nltk_data] Downloading package stopwords to /Users/gildafernandez-\n",
      "[nltk_data]     conchajahnsen/nltk_data...\n",
      "[nltk_data]   Package stopwords is already up-to-date!\n"
     ]
    },
    {
     "data": {
      "text/plain": [
       "True"
      ]
     },
     "execution_count": 46,
     "metadata": {},
     "output_type": "execute_result"
    }
   ],
   "source": [
    "# Install dependencies\n",
    "import contractions\n",
    "import numpy as np\n",
    "import re\n",
    "import pandas as pd\n",
    "import nltk\n",
    "nltk.download('punkt')\n",
    "nltk.download('stopwords')\n"
   ]
  },
  {
   "cell_type": "markdown",
   "metadata": {},
   "source": [
    "## Data"
   ]
  },
  {
   "cell_type": "code",
   "execution_count": 47,
   "metadata": {},
   "outputs": [
    {
     "name": "stdout",
     "output_type": "stream",
     "text": [
      "<class 'pandas.core.frame.DataFrame'>\n",
      "RangeIndex: 30 entries, 0 to 29\n",
      "Data columns (total 3 columns):\n",
      " #   Column            Non-Null Count  Dtype \n",
      "---  ------            --------------  ----- \n",
      " 0   Project           30 non-null     object\n",
      " 1   description       28 non-null     object\n",
      " 2   more_information  25 non-null     object\n",
      "dtypes: object(3)\n",
      "memory usage: 848.0+ bytes\n"
     ]
    },
    {
     "data": {
      "text/html": [
       "<div>\n",
       "<style scoped>\n",
       "    .dataframe tbody tr th:only-of-type {\n",
       "        vertical-align: middle;\n",
       "    }\n",
       "\n",
       "    .dataframe tbody tr th {\n",
       "        vertical-align: top;\n",
       "    }\n",
       "\n",
       "    .dataframe thead th {\n",
       "        text-align: right;\n",
       "    }\n",
       "</style>\n",
       "<table border=\"1\" class=\"dataframe\">\n",
       "  <thead>\n",
       "    <tr style=\"text-align: right;\">\n",
       "      <th></th>\n",
       "      <th>Project</th>\n",
       "      <th>description</th>\n",
       "      <th>more_information</th>\n",
       "    </tr>\n",
       "  </thead>\n",
       "  <tbody>\n",
       "    <tr>\n",
       "      <th>0</th>\n",
       "      <td>Editathon</td>\n",
       "      <td>An editathon or contribution marathon is an ev...</td>\n",
       "      <td>Wikipedia editathons take place in accredited ...</td>\n",
       "    </tr>\n",
       "    <tr>\n",
       "      <th>1</th>\n",
       "      <td>How to run an editathon</td>\n",
       "      <td>You will find many details on how to run an Ed...</td>\n",
       "      <td>An editathon can be: a scheduled time where pe...</td>\n",
       "    </tr>\n",
       "    <tr>\n",
       "      <th>2</th>\n",
       "      <td>Use the evaluation dashboard</td>\n",
       "      <td>The basic purpose of the dashboard is to provi...</td>\n",
       "      <td>NaN</td>\n",
       "    </tr>\n",
       "    <tr>\n",
       "      <th>3</th>\n",
       "      <td>WikiVoyage</td>\n",
       "      <td>Wikivoyage is a free online world travel guide...</td>\n",
       "      <td>Wikivoyage's purpose is to create an updatable...</td>\n",
       "    </tr>\n",
       "    <tr>\n",
       "      <th>4</th>\n",
       "      <td>Wiki2map</td>\n",
       "      <td>It is a site which allows you to create mental...</td>\n",
       "      <td>Wiki2map is particularly useful for reading le...</td>\n",
       "    </tr>\n",
       "  </tbody>\n",
       "</table>\n",
       "</div>"
      ],
      "text/plain": [
       "                        Project  \\\n",
       "0                     Editathon   \n",
       "1       How to run an editathon   \n",
       "2  Use the evaluation dashboard   \n",
       "3                    WikiVoyage   \n",
       "4                      Wiki2map   \n",
       "\n",
       "                                         description  \\\n",
       "0  An editathon or contribution marathon is an ev...   \n",
       "1  You will find many details on how to run an Ed...   \n",
       "2  The basic purpose of the dashboard is to provi...   \n",
       "3  Wikivoyage is a free online world travel guide...   \n",
       "4  It is a site which allows you to create mental...   \n",
       "\n",
       "                                    more_information  \n",
       "0  Wikipedia editathons take place in accredited ...  \n",
       "1  An editathon can be: a scheduled time where pe...  \n",
       "2                                                NaN  \n",
       "3  Wikivoyage's purpose is to create an updatable...  \n",
       "4  Wiki2map is particularly useful for reading le...  "
      ]
     },
     "execution_count": 47,
     "metadata": {},
     "output_type": "execute_result"
    }
   ],
   "source": [
    "# Load and understand the data\n",
    "URL = 'https://drive.google.com/file/d/1Q3S5Tnm4KmAMZ8YzgLcfZVTa4PgrktZq/view?usp=sharing'\n",
    "path = 'https://drive.google.com/uc?export=download&id='+URL.split('/')[-2]\n",
    "df = pd.read_csv(path)\n",
    "\n",
    "df.info()\n",
    "df.head()"
   ]
  },
  {
   "cell_type": "code",
   "execution_count": 48,
   "metadata": {},
   "outputs": [
    {
     "name": "stdout",
     "output_type": "stream",
     "text": [
      "<class 'pandas.core.frame.DataFrame'>\n",
      "RangeIndex: 30 entries, 0 to 29\n",
      "Data columns (total 4 columns):\n",
      " #   Column            Non-Null Count  Dtype \n",
      "---  ------            --------------  ----- \n",
      " 0   Project           30 non-null     object\n",
      " 1   description       30 non-null     object\n",
      " 2   more_information  30 non-null     object\n",
      " 3   full_description  30 non-null     object\n",
      "dtypes: object(4)\n",
      "memory usage: 1.1+ KB\n"
     ]
    },
    {
     "data": {
      "text/html": [
       "<div>\n",
       "<style scoped>\n",
       "    .dataframe tbody tr th:only-of-type {\n",
       "        vertical-align: middle;\n",
       "    }\n",
       "\n",
       "    .dataframe tbody tr th {\n",
       "        vertical-align: top;\n",
       "    }\n",
       "\n",
       "    .dataframe thead th {\n",
       "        text-align: right;\n",
       "    }\n",
       "</style>\n",
       "<table border=\"1\" class=\"dataframe\">\n",
       "  <thead>\n",
       "    <tr style=\"text-align: right;\">\n",
       "      <th></th>\n",
       "      <th>Project</th>\n",
       "      <th>description</th>\n",
       "      <th>more_information</th>\n",
       "      <th>full_description</th>\n",
       "    </tr>\n",
       "  </thead>\n",
       "  <tbody>\n",
       "    <tr>\n",
       "      <th>0</th>\n",
       "      <td>Editathon</td>\n",
       "      <td>An editathon or contribution marathon is an ev...</td>\n",
       "      <td>Wikipedia editathons take place in accredited ...</td>\n",
       "      <td>An editathon or contribution marathon is an ev...</td>\n",
       "    </tr>\n",
       "    <tr>\n",
       "      <th>1</th>\n",
       "      <td>How to run an editathon</td>\n",
       "      <td>You will find many details on how to run an Ed...</td>\n",
       "      <td>An editathon can be: a scheduled time where pe...</td>\n",
       "      <td>You will find many details on how to run an Ed...</td>\n",
       "    </tr>\n",
       "    <tr>\n",
       "      <th>2</th>\n",
       "      <td>Use the evaluation dashboard</td>\n",
       "      <td>The basic purpose of the dashboard is to provi...</td>\n",
       "      <td></td>\n",
       "      <td>The basic purpose of the dashboard is to provi...</td>\n",
       "    </tr>\n",
       "    <tr>\n",
       "      <th>3</th>\n",
       "      <td>WikiVoyage</td>\n",
       "      <td>Wikivoyage is a free online world travel guide...</td>\n",
       "      <td>Wikivoyage's purpose is to create an updatable...</td>\n",
       "      <td>Wikivoyage is a free online world travel guide...</td>\n",
       "    </tr>\n",
       "    <tr>\n",
       "      <th>4</th>\n",
       "      <td>Wiki2map</td>\n",
       "      <td>It is a site which allows you to create mental...</td>\n",
       "      <td>Wiki2map is particularly useful for reading le...</td>\n",
       "      <td>It is a site which allows you to create mental...</td>\n",
       "    </tr>\n",
       "  </tbody>\n",
       "</table>\n",
       "</div>"
      ],
      "text/plain": [
       "                        Project  \\\n",
       "0                     Editathon   \n",
       "1       How to run an editathon   \n",
       "2  Use the evaluation dashboard   \n",
       "3                    WikiVoyage   \n",
       "4                      Wiki2map   \n",
       "\n",
       "                                         description  \\\n",
       "0  An editathon or contribution marathon is an ev...   \n",
       "1  You will find many details on how to run an Ed...   \n",
       "2  The basic purpose of the dashboard is to provi...   \n",
       "3  Wikivoyage is a free online world travel guide...   \n",
       "4  It is a site which allows you to create mental...   \n",
       "\n",
       "                                    more_information  \\\n",
       "0  Wikipedia editathons take place in accredited ...   \n",
       "1  An editathon can be: a scheduled time where pe...   \n",
       "2                                                      \n",
       "3  Wikivoyage's purpose is to create an updatable...   \n",
       "4  Wiki2map is particularly useful for reading le...   \n",
       "\n",
       "                                    full_description  \n",
       "0  An editathon or contribution marathon is an ev...  \n",
       "1  You will find many details on how to run an Ed...  \n",
       "2  The basic purpose of the dashboard is to provi...  \n",
       "3  Wikivoyage is a free online world travel guide...  \n",
       "4  It is a site which allows you to create mental...  "
      ]
     },
     "execution_count": 48,
     "metadata": {},
     "output_type": "execute_result"
    }
   ],
   "source": [
    "# Concatenate text columns and add the full_description column in the df\n",
    "df.fillna(\"\", inplace=True)\n",
    "df['full_description'] = df['description'].map(str) + \" \" + df['more_information'].map(str)\n",
    "df.dropna(inplace=True)\n",
    "df.info()\n",
    "df.head()\n"
   ]
  },
  {
   "cell_type": "markdown",
   "metadata": {},
   "source": [
    "## Pre-process data"
   ]
  },
  {
   "cell_type": "code",
   "execution_count": 49,
   "metadata": {},
   "outputs": [],
   "source": [
    "# By default, NLTK (Natural Language Toolkit) includes a list of 40 stop words, including: “a”, “an”, “the”, “of”, “in”, etc. The stopwords in nltk are the most common words in data. They are words that you do not want to use to describe the topic of your content.\n",
    "stop_words = nltk.corpus.stopwords.words(\"english\")"
   ]
  },
  {
   "cell_type": "code",
   "execution_count": 50,
   "metadata": {},
   "outputs": [],
   "source": [
    "# Define a function to normalize a form\n",
    "def normalize_form(form):\n",
    "    # Remove special characters\n",
    "    form = re.sub(r'[^a-zA-Z0-9\\s]', '', form, flags=re.I | re.A)\n",
    "    # Turn all text in lower case\n",
    "    form = form.lower()\n",
    "    # Eliminate whitespaces\n",
    "    form = form.strip()\n",
    "    # Turn from contraction to non-contraction words\n",
    "    form = contractions.fix(form)\n",
    "    # Tokenize words in documents. Divide strings into lists of substrings.\n",
    "    tokens = nltk.word_tokenize(form)\n",
    "    # Remove stopwords tokens from the form\n",
    "    filtered_tokens = [token for token in tokens if token not in stop_words]\n",
    "    # Return a string by joining all the elements of the filtered_tokens, separated by the given separator \" \".\n",
    "    form = \" \".join(filtered_tokens)\n",
    "    return form"
   ]
  },
  {
   "cell_type": "code",
   "execution_count": 51,
   "metadata": {},
   "outputs": [],
   "source": [
    "# Vectorize function evaluates pyfunc over successive tuples of the function normalize_form\n",
    "normalize_form_vector = np.vectorize(normalize_form)"
   ]
  },
  {
   "cell_type": "code",
   "execution_count": 52,
   "metadata": {},
   "outputs": [
    {
     "data": {
      "text/plain": [
       "array(['editathon contribution marathon event contributors create edit improve articles certain theme subject specific type content order contribute projects wikipedia openstreetmap new contributors usually receive basic training collaborate projects wikipedia editathons take place accredited educational institutions scientific research institutions cultural institutions museums archives join editathon helps build encyclopedia provides access topic experts offline source materials builds relationships community encourages editors learn entices people become new wikipedians helps new wikipedians contribute fun source httpsenwikipediaorgwikiwikipediahowtorunaneditathon wikipedia editathon takes place accredited educational institutions scientific research institutions cultural institutions museums archives educational professional opportunities editathon helps improve european key competence 1 literacy competence 4 digital competence 5 personal social learning learn competence 8 cultural awareness expression competence',\n",
       "       'find many details run editathon beforehand ways advertise editathon afterwards editathon scheduled time people edit wikipedia together whether offline online mix typically focused specific topic science womens history way give newcomers insight wikipedia works editathons improve encyclopedia great way help new wikipedians learn edit quite different large conferences wikimania often multiple speakers panels huge variety topics editathon also unlike regular meetup tends without single goal andor socializing recommend guide run wikipedia editathon find many details run editathon beforehand ways advertise editathon editathon afterwards educational professional opportunities editathon helps improve european key competence 1 literacy competence 4 digital competence 5 personal social learning learn competence 8 cultural awareness expression competence',\n",
       "       'basic purpose dashboard provide easy way organize groups editors working common project make easy keep track contributed',\n",
       "       'wikivoyage free online world travel guide written volunteers intends reliable resource free contents updated voluntary users wikivoyagers different parts world possible integrate entries insert itineraries details wikivoyages purpose create updatable reliable free content world travel guide still young constantly growing project anyone wishes contribute texts images corrections welcome articles cover different levels geographic specificity continents districts city project also includes articles travelrelated topics phrasebooks travelers suggested itineraries educational professional opportunities wikivoyage helps improve european key competence 1 literacy competence 2 multilingual competence 4 digital competence 5 personal social learning learn competence 6 citizenship competence 8 cultural awareness expression competence',\n",
       "       'site allows create mental maps drawing contents wikimedia platforms created thanks funding wikimediach facilitates understanding fundamental concepts mental map thus supporting even reading difficulties wiki2map particularly useful reading lessons wikiversity especially primary secondary schools educational professional opportunities wiki2map helps improve european key competence 1 literacy competence 2 multilingual competence',\n",
       "       'wiki science competition international scientific photo competition organised wikimedia community annual competition open participants must create sciencerelated images upload free license impossible imagine culture without science visual world live enough talk science see participate check competition calendar countries organizing team annual competition countries without organizing team upload time november 15 december 15 participate following six categories people science scientists natural habitat microscopy images optical electron scanning probe microscopy images fall category nonphotographic media audio video files computergenerated imagery etc image sets thematically linked images viewed one set image set could made 10 separate images wildlife nature organisms grow live wild area macro photography also falls category general category everything else goes category archaeology thermodynamics volcanology astronomy educational professional opportunities wiki science competition helps improve european key competence mathematical competence competence science technology engineering digital competence citizenship competence cultural awareness expressive competence',\n",
       "       'web site allows locate swiss cultural institutions get information map generated extracting geographical coordinates wikidata connecting information wikipedia interactive geographic map additional incentive user immediately identify missing items wikipedia provide new contributions enrich free knowledge find several interactive maps explore swiss museums swiss archives archives chatde museums chdeat museums chdeatitfr swiss railway stations swiss castles roman thermal baths libraries chlideat educational professional opportunities wmch map service helps improve european key competence 2 multilingual competence 6 citizenship competence 7 entrepreneurship competence 8 cultural awareness expression competence',\n",
       "       'wikidata database edited collaboratively includes topics concepts objects item identified unique number prefixed letter q known qid wikidata contents available public domain license exportable using standard formats interlinked open datasets wikidata serves central storage structured data sister wikimedia projects including wikipedia wikivoyage wiktionary wikisource others educational professional opportunities wikidatahelps improve european key competence 1 literacy competence 2 multilingual competence 3 mathematical competence competence science technology engineering 4 digital competence 7 entrepreneurship competence',\n",
       "       'wikibooks textbooks annotated texts instructional guides manuals materials used traditional classroom accredited institution homeschool environment part wikiversity course selflearning every book generated edited proofed read thousands volunteers contributors fans scholars educational professional opportunities wikibooks helps improve european key competence 1 literacy competence 2 multilingual competence 3 mathematical competence competence science technology engineering 4 digital competence',\n",
       "       'wiki loves monuments organised worldwide wikipedia community members help national wikimedia affiliates across globe aim contest ask general public readers users wikipedia photographers hobbyists take pictures cultural heritage monuments upload wikimedia commons use wikipedia wikimedia projects educational professional opportunities wiki loves monuments helps improve european key competence 1 literacy competence 4 digital competence 6 citizenship competence 8 cultural awareness expression competence',\n",
       "       'free encyclopedia anyone edit wikipedia created maintained open collaboration project community volunteer editors using wikibased editing system largest popular general reference work world wide web one 20 popular websites world features exclusively free content commercial ads owned supported wikimedia foundation funded primarily donations educational professional opportunities wikipedia helps improve european key competence 1 literacy competence 2 multilingual competence 3 mathematical competence competence science technology engineering 4 digital competence 5 personal social learning learn competence 6 citizenship competence 7 entrepreneurship competence 8 cultural awareness expression competence',\n",
       "       'wikimedia commons simply commons online archive freetoaccess use digital images sounds multimedia files one largest archives multimedia resources educational documentary purposes freely used make presentations reports documents creations files archive used directly wikimedia projects files wikimedia commons used across wikimedia projects languages including wikipedia wiktionary wikibooks wikivoyage wikispecies wikisource wikinews downloaded offsite use may 2020 repository contains 61 million free media files managed editable registered volunteers project proposed erik mller march 2004 launched september 7 2004 key motivation behind setup central repository desire reduce duplication effort across wikimedia projects languages file uploaded many different wikis separately commons created aim wikimedia commons provide media file repository makes available public domain freelylicensed educational media content acts common repository various projects wikimedia foundation expression educational understood according broad meaning providing knowledge instructional informative source httpsenwikipediaorgwikiwikimediacommons educational professional opportunities commons helps improve european key competence 4 digital competence 5 personal social learning learn competence 6 citizenship competence 7 entrepreneurship competence 8 cultural awareness expression competence read details pedagogical opportunities open education',\n",
       "       '',\n",
       "       'easily online tool manage editing activity wikimedia basic purpose dashboard provide way organize groups editors working common project make easy keep track contributing',\n",
       "       'guide wikiversity page offers reasonably comprehensive guide categorized wikiversity content lists mainly generated dynamically automatically provide multiple alternative navigation pathways also possible browse wikiversity resources name alphabetical listing browse guide find content school resource type learning project educational level participation completion status may browse wikiversity content examples capture digital image httpsenwikiversityorgwikicaptureadigitalimage edit digital image httpsenwikiversityorgwikieditadigitalimage bacteria body httpsenwikiversityorgwikibacteriaandthebody environmental education httpsenwikiversityorgwikienvironmentaleducation',\n",
       "       'wikiversity project devoted learning resources learning projects research items levels types styles education preschool university including professional training informal learning invite teachers students researchers join us creating open educational resources collaborative learning communities wikiversity wikimedia foundation project supports learning communities learning materials resulting activities differs wikipedia offers tutorials materials fostering learning rather encyclopedia like wikipedia available many languages launch wikiversity announced wikimania 2006 idea host learning communities people actually trying learn actually place come interact help figure learn things guide wikiversity content page offers reasonably comprehensive guide categorized wikiversity content lists mainly generated dynamically automatically provide multiple alternative navigation pathways also possible browse wikiversity resources name alphabetical listing find content school resource type learning project educational level participation educational professional opportunities wikiversity helps improve european key competence 1 literacy competence 2 multilingual competence 3 mathematical competence competence science technology engineering 4 digital competence 5 personal social learning competence learn competence',\n",
       "       'wiktionary collaborative project produce freecontent multilingual dictionary terms including words phrases proverbs 174 languages entries may contain definitions pronunciation guides inflections usage examples related terms images illustration among features educational professional opportunities wiktionary helps improve european key competence 1 literacy competence 2 multilingual competence4 digital competence',\n",
       "       'hackathon event computer programmers graphic designers interface designers project managers others domain experts collaborate intensively programming projects goal hackathon create functioning software hardware end event last several hours several days participants suggest ideas form teams based individual interests skills hackathons tend specific focus include programming language used operating system application participants suggest ideas form teams based individual interests skills educational professional opportunities hackathon helps improve european key competence 3 mathematical competence competence science technology engineering 4 digital competence 5 personal social learning learn competence 7 entrepreneurship competence',\n",
       "       '',\n",
       "       'activity interuniversity project immunomedia realization articles spanish translation creation improvement related human immunology immunopathology immunotherapy group activity within subject human immunology university valladolid started collaboration academic year 20172018 incorporated activity interuniversity project immunomedia realization wikis spanish translation creation improvement related human immunology immunopathology immunotherapy group activity within subject human immunology university valladolid supervision alfredo corell courses 201718 201819 201920 20 wikis related immunology improved updated 10 original images added wikimedia commons project organized different lines action strategically respond different challenges addressed since inception creation multimedia learning objects immunology creation contents wikicommons wikipedia inmunopedia content curation immunology learning dissemination material social networks teachingdissemination immunology taking defenses streets different activities commemorating international day immunology internationalization project english french portuguese assessment knowledgelearning games gamification creation web content portal immunomedia3 gives structure previous elements information look following websites httpseswikipediaorgwikiwikipediaproyectoeducativoimmunomedia httpswwwimmunomediaorg',\n",
       "       'young wikimedians within age 1420 gather together write contribute wikimedia projects',\n",
       "       'project translation apprentices wikipedia students subject ti0920 20142015 translation interpreting university jaime castelln spain manage translate articles english spanish related cinema project linked english wikipedia counterpart universitat jaume etranslating wikipedia coordinatorprofessor mara calzada prez supported wikimedia spain part ti0920 translation interpreting course jaime university castelln spain second year students translate english spanish expand articles related cinema adelex analyser ada used evaluate lexicalterminological difficulty texts chosen translation students collaborate stages translation project linked universitat jaume etranslating project see following website information httpseswikipediaorgwikiwikipediaproyectoeducativoaprendicesdetraduccic3b3nconlawikipedia',\n",
       "       'academic world use wikipedia still considered taboo however impact online encyclopaedia even academia neglected ambivalence provided starting point university teaching project conducted department study religions university zurich aim course students actively experience mechanisms wikipedia rather discuss advantages disadvantages theoretical level aiming use wikipedia didactic tool platform focal point students actually write wikipedia articles change existing articles engage fellow students well wider wikipedia community',\n",
       "       'law students edit wikipedia articles students work groups prepare wikipedia articles parts articles constitutional administrative law singaporethe aims project encourage students internalize material covered course contribute towards producing body accurate information singapore constitutional administrative law freely available internet',\n",
       "       '32 primary secondary school teachers chosen 5 different regions bolivia invited part threeday bootcamp attended different workshops use internet class part trainings teachers helped edit wikipedia understand inner workings enciclopedia covered four areas 1 use web browsers find reliable information 2 digital content creation 3 wikipedia read create content 4 information literacy history values communities erlan vega participated facilitator two foundations paid place connection costs traveling costs teachers accepted',\n",
       "       'involve students improve create wikipedia articles medicine project started 2011 school medicine aristotle university thessaloniki context elective course medical education every year konstantinos stampoulis giving lecture wikipedia medicinal content wikipedia students given assignment create translate english usual choice article greek wikipedia managers project precompiled list articles english wikipedia sorted quality importance length difficulty students encouraged create small teams 24 choose article student translate part article correct parts translated rest way managers project managed make understand collaborative nature wikipedia also create much better articles would asked one article per student students online assistance wiki ambassadors experienced users volunteered need much results graded examining onwiki contributions individual studentuser per team',\n",
       "       'program promotes opening research teaching accordance principles open science movement enables researchers society whole access scientific research findings goal support scientists making research accessible period eight months fellows individually advised mentors already apply open science methods research addition theoretical basics topics open knowledge open science fellow program also shows participants apply practice program designed make subject open science visible promote scientific institutions communities fellow receives grant 3000 5000',\n",
       "       'since 2016 wikimedia argentina carrying wiki human rights project aims edit content wikipedia wikimedia projects order build memory digital territories beginnings project started thinking locally named wiki lesa taking notion lesa humanidad proposing edition updating creation content spanish wikipedia process reopening trials crimes humanity occurred last civilmilitary dictatorship argentina 70 80 justice process taken place argentina since 2005 experience wikipedia became digital territory proposed think present building memory haciendo memoria project carried coordination civil society organizations human rights defenders journalists researchers human rights organizations survivors 2018 project extended implement regional level name changed wiki human rights experience tooked 7 countries region chile uruguay mexico venezuela colombia paraguay argentina experiences considered important articulate place training spaces wikipedia editing process together local communities wikimedians institutions civil society organizations specialized subject',\n",
       "       'project develops 3 training sessions 3 days work university students professors offers intensive session wikimedia projects later detail edition content wikipedia particular interest creation projects support research done classes get involved program aim encouraging professors students use wikipedia platform another space consolidate debates content within academic world organized initial space exchange chairs research teams get know work team contentstopics studyresearch think together implement project specific subject define work times research work elaboration content added team teachers students researches wikipedia analyzing articles exist missing topic want work select articles create improve work search reliable sources build contents education human rights program process article selection monitored various tutorials provided chairs begin learn editing tools 3 final editing workshop final meeting participants held workshop worked wikipedia operation principles free culture editing tools finally group uploads elaborated contents encyclopedia information look following websites httpswikimediaorgarwikipediaenlauniversidad httpsrevistasucueduuyindexphppaginasdeeducacionarticleview15521536',\n",
       "       'last year education team wikimedia foundation launched reading wikipedia classroom pilot 3 pilot countries bolivia morocco philippines worked local coordinators wikimedia affiliates country provide online professional development opportunity close 1000 secondary school teachers localized curriculum aligns wikipedia unescos media information literacy framework project connect teachers communities practices behind wikipedia help educators students develop vital information literacy skills 21st century understanding information produced evaluate integrity knowledge understand biases knowledge gaps information consume achieve projects objectives schools benefit localized materials teachers use wikipedia develop critical reading skills teacher development training selected teachers use kit ongoing support local coordinators teachers implementing resources practices classrooms professional development recognition participating teachers schools integration wikipedias international network education leaders information look follwoing website httpsoutreachwikimediaorgwikieducationabouteducationteamreadingwikipediaintheclassroomes httpswwwyoutubecomwatchvmmsasvf6j7w'],\n",
       "      dtype='<U1432')"
      ]
     },
     "execution_count": 52,
     "metadata": {},
     "output_type": "execute_result"
    }
   ],
   "source": [
    "# Create list of each course with the normalized full_description\n",
    "normalize_full_descriptions = normalize_form_vector(\n",
    "    list(df[\"full_description\"]))\n",
    "len(normalize_full_descriptions)\n",
    "\n",
    "normalize_full_descriptions"
   ]
  },
  {
   "cell_type": "markdown",
   "metadata": {},
   "source": [
    "## Engineer TF-IDF feature"
   ]
  },
  {
   "cell_type": "markdown",
   "metadata": {},
   "source": [
    "###### TF-IDF (term frequency-inverse document frequency) is a statistical measure that evaluates how relevant a word is to a document in a collection of documents.  \n",
    "###### TFxIDF = (how many times a word appears in a document) (the inverse document frequency of the word across a set of documents)\n"
   ]
  },
  {
   "cell_type": "code",
   "execution_count": 53,
   "metadata": {},
   "outputs": [],
   "source": [
    "from sklearn.feature_extraction.text import TfidfVectorizer"
   ]
  },
  {
   "cell_type": "code",
   "execution_count": 54,
   "metadata": {},
   "outputs": [
    {
     "name": "stdout",
     "output_type": "stream",
     "text": [
      "(30, 411)\n"
     ]
    }
   ],
   "source": [
    "# Convert a collection of raw documents to a matrix of TF-IDF features\n",
    "tf = TfidfVectorizer(ngram_range=(1, 2), min_df=2)\n",
    "tfidf_matrix = tf.fit_transform(normalize_full_descriptions)\n",
    "print(tfidf_matrix.shape)\n",
    "\n",
    "# ngram_range = (1,2) means unigrams and bigrams can be extracted"
   ]
  },
  {
   "cell_type": "markdown",
   "metadata": {},
   "source": [
    "## Compute cosine document similarity"
   ]
  },
  {
   "cell_type": "code",
   "execution_count": 55,
   "metadata": {},
   "outputs": [
    {
     "name": "stdout",
     "output_type": "stream",
     "text": [
      "         0         1         2         3         4         5         6   \\\n",
      "0  1.000000  0.529567  0.023494  0.264008  0.158637  0.159473  0.373344   \n",
      "1  0.529567  1.000000  0.022771  0.286354  0.141696  0.179899  0.188043   \n",
      "2  0.023494  0.022771  1.000000  0.027500  0.000000  0.000000  0.012003   \n",
      "3  0.264008  0.286354  0.027500  1.000000  0.279763  0.309864  0.328722   \n",
      "4  0.158637  0.141696  0.000000  0.279763  1.000000  0.175940  0.389526   \n",
      "\n",
      "         7         8         9   ...        20        21        22        23  \\\n",
      "0  0.171365  0.243195  0.286958  ...  0.068795  0.037962  0.060408  0.072983   \n",
      "1  0.178891  0.183813  0.243049  ...  0.023741  0.018194  0.049607  0.050265   \n",
      "2  0.000000  0.000000  0.000000  ...  0.000000  0.018117  0.006414  0.039397   \n",
      "3  0.355136  0.354457  0.373701  ...  0.077943  0.056260  0.102791  0.107528   \n",
      "4  0.330056  0.348568  0.272393  ...  0.020248  0.005773  0.030533  0.000000   \n",
      "\n",
      "         24        25        26        27        28        29  \n",
      "0  0.064066  0.068873  0.170441  0.115424  0.120310  0.046069  \n",
      "1  0.096720  0.062438  0.040630  0.038113  0.052864  0.041013  \n",
      "2  0.000000  0.041203  0.014840  0.015304  0.007431  0.013335  \n",
      "3  0.110182  0.114465  0.017591  0.031624  0.119835  0.023490  \n",
      "4  0.112434  0.042896  0.000000  0.009753  0.038964  0.181161  \n",
      "\n",
      "[5 rows x 30 columns]\n"
     ]
    }
   ],
   "source": [
    "from sklearn.metrics.pairwise import cosine_similarity\n",
    "form_sim = cosine_similarity(tfidf_matrix)\n",
    "form_sim_df = pd.DataFrame(form_sim)\n",
    "print(form_sim_df.head())\n"
   ]
  },
  {
   "cell_type": "markdown",
   "metadata": {},
   "source": []
  },
  {
   "cell_type": "markdown",
   "metadata": {},
   "source": [
    "## Find top 5 similar courses"
   ]
  },
  {
   "cell_type": "code",
   "execution_count": 56,
   "metadata": {},
   "outputs": [
    {
     "data": {
      "text/plain": [
       "(array(['Editathon', 'How to run an editathon',\n",
       "        'Use the evaluation dashboard', 'WikiVoyage', 'Wiki2map',\n",
       "        'Wiki Science Competition', 'WMCH Map Service', 'Wikidata',\n",
       "        'Wikibooks', 'Wiki Loves Monuments', 'Wikipedia', 'Commons',\n",
       "        'UNESCO OER Recommendation 2019', 'Evaluation Dashboard',\n",
       "        'A Guide to Wikiversity', 'Wikiversity', 'Wiktionary', 'Hackathon',\n",
       "        'Catalan Sign Language and Wiktionary', 'Immunomedia',\n",
       "        'WikiCamp Armenia', 'Translation apprentices and Wikipedia',\n",
       "        'Wikipedia as a tool for university teaching',\n",
       "        \"University law students' editing\",\n",
       "        'Teacher training of teachers in Bolivia', 'Wikipedia in medicine',\n",
       "        'Open Science Fellows Program', 'WikiDDHH',\n",
       "        'Wikipedia in your university',\n",
       "        'Reading Wikipedia in the Classroom'], dtype=object),\n",
       " (30,))"
      ]
     },
     "execution_count": 56,
     "metadata": {},
     "output_type": "execute_result"
    }
   ],
   "source": [
    "courses_list = df['Project'].values\n",
    "courses_list, courses_list.shape\n"
   ]
  },
  {
   "cell_type": "code",
   "execution_count": 57,
   "metadata": {},
   "outputs": [
    {
     "name": "stdout",
     "output_type": "stream",
     "text": [
      "0\n",
      "[1.         0.52956708 0.02349385 0.26400814 0.15863727 0.15947254\n",
      " 0.3733439  0.17136452 0.24319545 0.28695811 0.29949306 0.206856\n",
      " 0.         0.02289759 0.03150783 0.21058651 0.17795474 0.24991551\n",
      " 0.         0.03085292 0.06879499 0.03796206 0.06040779 0.07298283\n",
      " 0.06406586 0.06887256 0.17044121 0.11542374 0.12031022 0.04606885]\n"
     ]
    }
   ],
   "source": [
    "# Find course ID\n",
    "\n",
    "course_idx = np.where(courses_list == \"Editathon\")[0][0]\n",
    "print(course_idx)\n",
    "\n",
    "course_similarities = form_sim_df.iloc[course_idx].values\n",
    "print(course_similarities)\n"
   ]
  },
  {
   "cell_type": "code",
   "execution_count": 58,
   "metadata": {},
   "outputs": [
    {
     "name": "stdout",
     "output_type": "stream",
     "text": [
      "[ 1  6 10  9  3]\n"
     ]
    }
   ],
   "source": [
    "# Get top 5 similar course IDs\n",
    "\n",
    "similar_course_idxs = np.argsort(-course_similarities)[1:6]\n",
    "print(similar_course_idxs)"
   ]
  },
  {
   "cell_type": "code",
   "execution_count": 216,
   "metadata": {},
   "outputs": [
    {
     "name": "stdout",
     "output_type": "stream",
     "text": [
      "['How to run an editathon' 'WMCH Map Service' 'Wikipedia'\n",
      " 'Wiki Loves Monuments' 'WikiVoyage']\n"
     ]
    }
   ],
   "source": [
    "# Get top 5 similar course titles\n",
    "similar_courses = courses_list[similar_course_idxs]\n",
    "print(similar_courses)\n"
   ]
  },
  {
   "cell_type": "markdown",
   "metadata": {},
   "source": [
    "## Build the course recommendation function"
   ]
  },
  {
   "cell_type": "code",
   "execution_count": 217,
   "metadata": {},
   "outputs": [],
   "source": [
    "def course_recommender(course_title, courses=courses_list, doc_sims=form_sim_df):\n",
    "    # Find course ID\n",
    "    course_idx = np.where(courses == course_title)[0][0]\n",
    "    # Get course similarities\n",
    "    course_similarities = doc_sims.iloc[course_idx].values\n",
    "    # Get top 5 similar movie IDs\n",
    "    similar_course_idxs = np.argsort(-course_similarities)[1:6]\n",
    "    # Get top 5 courses\n",
    "    similar_courses = courses[similar_course_idxs]\n",
    "    #Return the top 5 courses\n",
    "    return similar_courses\n"
   ]
  },
  {
   "cell_type": "code",
   "execution_count": 120,
   "metadata": {},
   "outputs": [
    {
     "name": "stdout",
     "output_type": "stream",
     "text": [
      "Course:  Editathon\n",
      "Top 5 recommended courses:  ['How to run an editathon' 'WMCH Map Service' 'Wikipedia'\n",
      " 'Wiki Loves Monuments' 'WikiVoyage']\n",
      "\n",
      "Course:  How to run an editathon\n",
      "Top 5 recommended courses:  ['Editathon' 'Wikipedia' 'WikiVoyage' 'Wiki Loves Monuments' 'Hackathon']\n",
      "\n",
      "Course:  Use the evaluation dashboard\n",
      "Top 5 recommended courses:  ['Evaluation Dashboard' 'Wikipedia in medicine'\n",
      " \"University law students' editing\" 'Commons' 'WikiVoyage']\n",
      "\n",
      "Course:  WikiVoyage\n",
      "Top 5 recommended courses:  ['Wikipedia' 'Wiki Loves Monuments' 'Wikidata' 'Wikibooks' 'Wiktionary']\n",
      "\n",
      "Course:  Wiki2map\n",
      "Top 5 recommended courses:  ['WMCH Map Service' 'Wikibooks' 'Wiktionary' 'Wikidata' 'Wikipedia']\n",
      "\n",
      "Course:  Wiki Science Competition\n",
      "Top 5 recommended courses:  ['Wikipedia' 'Wiki Loves Monuments' 'Wikibooks' 'Wikidata' 'Hackathon']\n",
      "\n",
      "Course:  WMCH Map Service\n",
      "Top 5 recommended courses:  ['Wikipedia' 'Wiki2map' 'Editathon' 'Wiki Loves Monuments' 'WikiVoyage']\n",
      "\n",
      "Course:  Wikidata\n",
      "Top 5 recommended courses:  ['Wikipedia' 'Wikibooks' 'Hackathon' 'Wiktionary' 'WikiVoyage']\n",
      "\n",
      "Course:  Wikibooks\n",
      "Top 5 recommended courses:  ['Wikipedia' 'Wikidata' 'Hackathon' 'Wiktionary' 'WikiVoyage']\n",
      "\n",
      "Course:  Wiki Loves Monuments\n",
      "Top 5 recommended courses:  ['Commons' 'Wikipedia' 'Wiki Science Competition' 'WikiVoyage' 'Wikidata']\n",
      "\n",
      "Course:  Wikipedia\n",
      "Top 5 recommended courses:  ['WikiVoyage' 'Wikidata' 'Wikibooks' 'Hackathon' 'Wiki Loves Monuments']\n",
      "\n",
      "Course:  Commons\n",
      "Top 5 recommended courses:  ['Wiki Loves Monuments' 'Wikipedia' 'Wikidata' 'WikiVoyage' 'Wikibooks']\n",
      "\n",
      "Course:  UNESCO OER Recommendation 2019\n",
      "Top 5 recommended courses:  ['WikiDDHH' 'Open Science Fellows Program' 'Wikipedia in medicine'\n",
      " 'Teacher training of teachers in Bolivia'\n",
      " \"University law students' editing\"]\n",
      "\n",
      "Course:  Evaluation Dashboard\n",
      "Top 5 recommended courses:  ['Use the evaluation dashboard' 'Immunomedia' 'Commons'\n",
      " 'Wikipedia in medicine' 'Wikipedia as a tool for university teaching']\n",
      "\n",
      "Course:  A Guide to Wikiversity\n",
      "Top 5 recommended courses:  ['Wikiversity' 'WikiVoyage' 'Teacher training of teachers in Bolivia'\n",
      " 'Wikibooks' 'Wiki2map']\n",
      "\n",
      "Course:  Wikiversity\n",
      "Top 5 recommended courses:  ['A Guide to Wikiversity' 'Wikipedia' 'Wikibooks' 'WikiVoyage' 'Hackathon']\n",
      "\n",
      "Course:  Wiktionary\n",
      "Top 5 recommended courses:  ['Wikibooks' 'Wikidata' 'Wikipedia' 'WikiVoyage' 'Wiki2map']\n",
      "\n",
      "Course:  Hackathon\n",
      "Top 5 recommended courses:  ['Wikipedia' 'Wikidata' 'Wikibooks' 'Wiki Science Competition'\n",
      " 'WikiVoyage']\n",
      "\n",
      "Course:  Catalan Sign Language and Wiktionary\n",
      "Top 5 recommended courses:  ['WikiDDHH' 'Open Science Fellows Program' 'Wikipedia in medicine'\n",
      " 'Teacher training of teachers in Bolivia'\n",
      " \"University law students' editing\"]\n",
      "\n",
      "Course:  Immunomedia\n",
      "Top 5 recommended courses:  ['Translation apprentices and Wikipedia' 'WikiDDHH'\n",
      " 'Wikipedia in your university' 'Teacher training of teachers in Bolivia'\n",
      " 'Commons']\n",
      "\n",
      "Course:  WikiCamp Armenia\n",
      "Top 5 recommended courses:  ['Commons' 'WikiDDHH' 'Wikipedia in your university'\n",
      " 'Wiki Loves Monuments' 'WikiVoyage']\n",
      "\n",
      "Course:  Translation apprentices and Wikipedia\n",
      "Top 5 recommended courses:  ['Wikipedia in medicine' 'Immunomedia'\n",
      " 'Wikipedia as a tool for university teaching'\n",
      " \"University law students' editing\" 'Wikipedia in your university']\n",
      "\n",
      "Course:  Wikipedia as a tool for university teaching\n",
      "Top 5 recommended courses:  [\"University law students' editing\" 'Wikipedia in medicine'\n",
      " 'Wikipedia in your university' 'Translation apprentices and Wikipedia'\n",
      " 'Wiki Loves Monuments']\n",
      "\n",
      "Course:  University law students' editing\n",
      "Top 5 recommended courses:  ['Wikipedia as a tool for university teaching' 'Wikipedia in medicine'\n",
      " 'Wikipedia in your university' 'Translation apprentices and Wikipedia'\n",
      " 'Teacher training of teachers in Bolivia']\n",
      "\n",
      "Course:  Teacher training of teachers in Bolivia\n",
      "Top 5 recommended courses:  ['Reading Wikipedia in the Classroom' \"University law students' editing\"\n",
      " 'Immunomedia' 'Wikipedia in your university' 'Wikipedia in medicine']\n",
      "\n",
      "Course:  Wikipedia in medicine\n",
      "Top 5 recommended courses:  ['Translation apprentices and Wikipedia'\n",
      " \"University law students' editing\"\n",
      " 'Wikipedia as a tool for university teaching'\n",
      " 'Wikipedia in your university' 'Teacher training of teachers in Bolivia']\n",
      "\n",
      "Course:  Open Science Fellows Program\n",
      "Top 5 recommended courses:  ['Wiki Science Competition' 'Wikipedia in your university' 'Editathon'\n",
      " 'Wikidata' 'Wikiversity']\n",
      "\n",
      "Course:  WikiDDHH\n",
      "Top 5 recommended courses:  ['Wikipedia in your university' 'Immunomedia' 'Wiki Loves Monuments'\n",
      " 'Wikipedia in medicine' 'Wikipedia as a tool for university teaching']\n",
      "\n",
      "Course:  Wikipedia in your university\n",
      "Top 5 recommended courses:  ['Wikipedia as a tool for university teaching' 'WikiDDHH'\n",
      " \"University law students' editing\" 'Wikipedia in medicine' 'Immunomedia']\n",
      "\n",
      "Course:  Reading Wikipedia in the Classroom\n",
      "Top 5 recommended courses:  ['Teacher training of teachers in Bolivia' 'Wikipedia in your university'\n",
      " 'Wiki2map' 'Wikipedia as a tool for university teaching'\n",
      " 'Wiki Loves Monuments']\n",
      "\n"
     ]
    }
   ],
   "source": [
    "for course in courses_list:\n",
    "    print(\"Course: \", course)\n",
    "    print(\"Top 5 recommended courses: \", course_recommender(\n",
    "        course_title=course, courses=courses_list, doc_sims=form_sim_df))\n",
    "    print()\n"
   ]
  }
 ],
 "metadata": {
  "kernelspec": {
   "display_name": "Python 3.10.6 ('venvopeneducation')",
   "language": "python",
   "name": "python3"
  },
  "language_info": {
   "codemirror_mode": {
    "name": "ipython",
    "version": 3
   },
   "file_extension": ".py",
   "mimetype": "text/x-python",
   "name": "python",
   "nbconvert_exporter": "python",
   "pygments_lexer": "ipython3",
   "version": "3.10.6"
  },
  "orig_nbformat": 4,
  "vscode": {
   "interpreter": {
    "hash": "67d501993d893a626df122ed22b8016f785c3679f5a73a4ec9436e5178ce6d83"
   }
  }
 },
 "nbformat": 4,
 "nbformat_minor": 2
}
